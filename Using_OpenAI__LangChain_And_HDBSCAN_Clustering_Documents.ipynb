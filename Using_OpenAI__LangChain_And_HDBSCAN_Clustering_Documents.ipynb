{
  "cells": [
    {
      "cell_type": "markdown",
      "metadata": {
        "id": "view-in-github",
        "colab_type": "text"
      },
      "source": [
        "<a href=\"https://colab.research.google.com/github/sarahhuahua/nstools/blob/master/Using_OpenAI__LangChain_And_HDBSCAN_Clustering_Documents.ipynb\" target=\"_parent\"><img src=\"https://colab.research.google.com/assets/colab-badge.svg\" alt=\"Open In Colab\"/></a>"
      ]
    },
    {
      "cell_type": "code",
      "source": [
        "!python3.10 --version"
      ],
      "metadata": {
        "colab": {
          "base_uri": "https://localhost:8080/"
        },
        "id": "GNgna6Mcr-f8",
        "outputId": "060596d8-66d0-42d9-f058-487c94f6245b"
      },
      "execution_count": 1,
      "outputs": [
        {
          "output_type": "stream",
          "name": "stdout",
          "text": [
            "Python 3.10.12\n"
          ]
        }
      ]
    },
    {
      "cell_type": "markdown",
      "source": [
        "## **安装依赖**"
      ],
      "metadata": {
        "id": "7tqCm0t9sifX"
      }
    },
    {
      "cell_type": "code",
      "source": [
        "pip install python-dev-tools"
      ],
      "metadata": {
        "colab": {
          "base_uri": "https://localhost:8080/"
        },
        "id": "3WKYDKRq3lLr",
        "outputId": "3f57b993-ef27-4583-ebeb-e3bba15b15a6"
      },
      "execution_count": 2,
      "outputs": [
        {
          "output_type": "stream",
          "name": "stdout",
          "text": [
            "Requirement already satisfied: python-dev-tools in /usr/local/lib/python3.10/dist-packages (2023.3.24)\n",
            "Requirement already satisfied: pep8-naming<1,>=0 in /usr/local/lib/python3.10/dist-packages (from python-dev-tools) (0.13.3)\n",
            "Requirement already satisfied: black<24,>=23 in /usr/local/lib/python3.10/dist-packages (from python-dev-tools) (23.12.1)\n",
            "Requirement already satisfied: flake8-mutable<2,>=1 in /usr/local/lib/python3.10/dist-packages (from python-dev-tools) (1.2.0)\n",
            "Requirement already satisfied: flake8-future-annotations<1,>=0 in /usr/local/lib/python3.10/dist-packages (from python-dev-tools) (0.0.5)\n",
            "Requirement already satisfied: flake8-simplify<1,>=0 in /usr/local/lib/python3.10/dist-packages (from python-dev-tools) (0.21.0)\n",
            "Requirement already satisfied: tox<5,>=4 in /usr/local/lib/python3.10/dist-packages (from python-dev-tools) (4.11.4)\n",
            "Requirement already satisfied: flake8-functions<1,>=0 in /usr/local/lib/python3.10/dist-packages (from python-dev-tools) (0.0.8)\n",
            "Requirement already satisfied: flake8-use-fstring<2,>=1 in /usr/local/lib/python3.10/dist-packages (from python-dev-tools) (1.4)\n",
            "Requirement already satisfied: pytest-cov<5,>=4 in /usr/local/lib/python3.10/dist-packages (from python-dev-tools) (4.1.0)\n",
            "Requirement already satisfied: flake8-comments<1,>=0 in /usr/local/lib/python3.10/dist-packages (from python-dev-tools) (0.1.2)\n",
            "Requirement already satisfied: flake8-literal<2,>=1 in /usr/local/lib/python3.10/dist-packages (from python-dev-tools) (1.3.0)\n",
            "Requirement already satisfied: flake8-encodings<1,>=0 in /usr/local/lib/python3.10/dist-packages (from python-dev-tools) (0.5.1)\n",
            "Requirement already satisfied: flake8-annotations-coverage<1,>=0 in /usr/local/lib/python3.10/dist-packages (from python-dev-tools) (0.0.6)\n",
            "Requirement already satisfied: flake8-eradicate<2,>=1 in /usr/local/lib/python3.10/dist-packages (from python-dev-tools) (1.5.0)\n",
            "Requirement already satisfied: flake8-noqa<2,>=1 in /usr/local/lib/python3.10/dist-packages (from python-dev-tools) (1.3.2)\n",
            "Requirement already satisfied: pybetter<1,>=0 in /usr/local/lib/python3.10/dist-packages (from python-dev-tools) (0.4.1)\n",
            "Requirement already satisfied: flake8-fastapi<1,>=0 in /usr/local/lib/python3.10/dist-packages (from python-dev-tools) (0.7.0)\n",
            "Requirement already satisfied: flake8-pytest-style<2,>=1 in /usr/local/lib/python3.10/dist-packages (from python-dev-tools) (1.7.2)\n",
            "Requirement already satisfied: flake8-use-pathlib<1,>=0 in /usr/local/lib/python3.10/dist-packages (from python-dev-tools) (0.3.0)\n",
            "Requirement already satisfied: flake8-django<2,>=1 in /usr/local/lib/python3.10/dist-packages (from python-dev-tools) (1.4)\n",
            "Requirement already satisfied: flake8-isort<7,>=6 in /usr/local/lib/python3.10/dist-packages (from python-dev-tools) (6.1.1)\n",
            "Requirement already satisfied: flake8-typing-imports<2,>=1 in /usr/local/lib/python3.10/dist-packages (from python-dev-tools) (1.15.0)\n",
            "Requirement already satisfied: flake8-warnings<1,>=0 in /usr/local/lib/python3.10/dist-packages (from python-dev-tools) (0.4.0)\n",
            "Requirement already satisfied: removestar<2,>=1 in /usr/local/lib/python3.10/dist-packages (from python-dev-tools) (1.5)\n",
            "Requirement already satisfied: doc8<2,>=1 in /usr/local/lib/python3.10/dist-packages (from python-dev-tools) (1.1.1)\n",
            "Requirement already satisfied: flake8-class-attributes-order<1,>=0 in /usr/local/lib/python3.10/dist-packages (from python-dev-tools) (0.1.3)\n",
            "Requirement already satisfied: flake8-builtins<2,>=1 in /usr/local/lib/python3.10/dist-packages (from python-dev-tools) (1.5.3)\n",
            "Requirement already satisfied: flake8-pie<1,>=0 in /usr/local/lib/python3.10/dist-packages (from python-dev-tools) (0.16.0)\n",
            "Requirement already satisfied: flake8-functions-names<1,>=0 in /usr/local/lib/python3.10/dist-packages (from python-dev-tools) (0.4.0)\n",
            "Requirement already satisfied: flake8-docstrings<2,>=1 in /usr/local/lib/python3.10/dist-packages (from python-dev-tools) (1.7.0)\n",
            "Requirement already satisfied: flake8-aaa<1,>=0 in /usr/local/lib/python3.10/dist-packages (from python-dev-tools) (0.17.0)\n",
            "Requirement already satisfied: flake8-expression-complexity<1,>=0 in /usr/local/lib/python3.10/dist-packages (from python-dev-tools) (0.0.11)\n",
            "Requirement already satisfied: pytest<8,>=7 in /usr/local/lib/python3.10/dist-packages (from python-dev-tools) (7.4.3)\n",
            "Requirement already satisfied: tox-travis<1,>=0 in /usr/local/lib/python3.10/dist-packages (from python-dev-tools) (0.12)\n",
            "Requirement already satisfied: Sphinx<7,>=6 in /usr/local/lib/python3.10/dist-packages (from python-dev-tools) (6.2.1)\n",
            "Requirement already satisfied: flake8-pylint<1,>=0 in /usr/local/lib/python3.10/dist-packages (from python-dev-tools) (0.2.1)\n",
            "Requirement already satisfied: autoflake<2,>=1 in /usr/local/lib/python3.10/dist-packages (from python-dev-tools) (1.7.8)\n",
            "Requirement already satisfied: flake8-annotations-complexity<1,>=0 in /usr/local/lib/python3.10/dist-packages (from python-dev-tools) (0.0.8)\n",
            "Requirement already satisfied: flake8-pyi<23,>=22 in /usr/local/lib/python3.10/dist-packages (from python-dev-tools) (22.11.0)\n",
            "Requirement already satisfied: dlint<1,>=0 in /usr/local/lib/python3.10/dist-packages (from python-dev-tools) (0.14.1)\n",
            "Requirement already satisfied: flake8-debugger<5,>=4 in /usr/local/lib/python3.10/dist-packages (from python-dev-tools) (4.1.2)\n",
            "Requirement already satisfied: flake8-useless-assert<1,>=0 in /usr/local/lib/python3.10/dist-packages (from python-dev-tools) (0.4.4)\n",
            "Requirement already satisfied: pycln<3,>=1 in /usr/local/lib/python3.10/dist-packages (from python-dev-tools) (2.4.0)\n",
            "Requirement already satisfied: flake8-annotations<4,>=3 in /usr/local/lib/python3.10/dist-packages (from python-dev-tools) (3.0.1)\n",
            "Requirement already satisfied: ssort<1,>=0 in /usr/local/lib/python3.10/dist-packages (from python-dev-tools) (0.11.6)\n",
            "Requirement already satisfied: flake8-comprehensions<4,>=3 in /usr/local/lib/python3.10/dist-packages (from python-dev-tools) (3.14.0)\n",
            "Requirement already satisfied: flake8-coding<2,>=1 in /usr/local/lib/python3.10/dist-packages (from python-dev-tools) (1.3.2)\n",
            "Requirement already satisfied: flake8-black<1,>=0 in /usr/local/lib/python3.10/dist-packages (from python-dev-tools) (0.3.6)\n",
            "Requirement already satisfied: flake8-rst-docstrings<1,>=0 in /usr/local/lib/python3.10/dist-packages (from python-dev-tools) (0.3.0)\n",
            "Requirement already satisfied: darglint<2,>=1 in /usr/local/lib/python3.10/dist-packages (from python-dev-tools) (1.8.1)\n",
            "Requirement already satisfied: flake8-cognitive-complexity<1,>=0 in /usr/local/lib/python3.10/dist-packages (from python-dev-tools) (0.1.0)\n",
            "Requirement already satisfied: flake8-secure-coding-standard<2,>=1 in /usr/local/lib/python3.10/dist-packages (from python-dev-tools) (1.4.0)\n",
            "Requirement already satisfied: flake8-broken-line<1,>=0 in /usr/local/lib/python3.10/dist-packages (from python-dev-tools) (0.6.0)\n",
            "Requirement already satisfied: flake8-tidy-imports<5,>=4 in /usr/local/lib/python3.10/dist-packages (from python-dev-tools) (4.10.0)\n",
            "Requirement already satisfied: pycodestyle<3,>=2 in /usr/local/lib/python3.10/dist-packages (from python-dev-tools) (2.9.1)\n",
            "Requirement already satisfied: flake8-quotes<4,>=3 in /usr/local/lib/python3.10/dist-packages (from python-dev-tools) (3.3.2)\n",
            "Requirement already satisfied: docformatter<2,>=1 in /usr/local/lib/python3.10/dist-packages (from python-dev-tools) (1.7.5)\n",
            "Requirement already satisfied: pandas-vet<1,>=0 in /usr/local/lib/python3.10/dist-packages (from python-dev-tools) (0.2.3)\n",
            "Requirement already satisfied: flake8-bandit<5,>=4 in /usr/local/lib/python3.10/dist-packages (from python-dev-tools) (4.1.1)\n",
            "Requirement already satisfied: flake8-logging-format<1,>=0 in /usr/local/lib/python3.10/dist-packages (from python-dev-tools) (0.9.0)\n",
            "Requirement already satisfied: flake8-bugbear<24,>=23 in /usr/local/lib/python3.10/dist-packages (from python-dev-tools) (23.3.12)\n",
            "Requirement already satisfied: flake8-variables-names<1,>=0 in /usr/local/lib/python3.10/dist-packages (from python-dev-tools) (0.0.6)\n",
            "Requirement already satisfied: flake8<6,>=5 in /usr/local/lib/python3.10/dist-packages (from python-dev-tools) (5.0.4)\n",
            "Requirement already satisfied: flake8-string-format<1,>=0 in /usr/local/lib/python3.10/dist-packages (from python-dev-tools) (0.3.0)\n",
            "Requirement already satisfied: flake8-blind-except<1,>=0 in /usr/local/lib/python3.10/dist-packages (from python-dev-tools) (0.2.1)\n",
            "Requirement already satisfied: pydocstyle<7,>=6 in /usr/local/lib/python3.10/dist-packages (from python-dev-tools) (6.3.0)\n",
            "Requirement already satisfied: flake8-markdown<1,>=0 in /usr/local/lib/python3.10/dist-packages (from python-dev-tools) (0.5.0)\n",
            "Requirement already satisfied: pyupgrade<4,>=3 in /usr/local/lib/python3.10/dist-packages (from python-dev-tools) (3.15.0)\n",
            "Requirement already satisfied: flake8-breakpoint<2,>=1 in /usr/local/lib/python3.10/dist-packages (from python-dev-tools) (1.1.0)\n",
            "Requirement already satisfied: pip<23,>=22 in /usr/local/lib/python3.10/dist-packages (from python-dev-tools) (22.3.1)\n",
            "Requirement already satisfied: flake8-2020<2,>=1 in /usr/local/lib/python3.10/dist-packages (from python-dev-tools) (1.8.1)\n",
            "Requirement already satisfied: coverage[toml]<8,>=7 in /usr/local/lib/python3.10/dist-packages (from python-dev-tools) (7.4.0)\n",
            "Requirement already satisfied: flake8-fixme<2,>=1 in /usr/local/lib/python3.10/dist-packages (from python-dev-tools) (1.1.1)\n",
            "Requirement already satisfied: flake8-no-pep420<3,>=2 in /usr/local/lib/python3.10/dist-packages (from python-dev-tools) (2.7.0)\n",
            "Requirement already satisfied: jupyterlab-flake8<1,>=0 in /usr/local/lib/python3.10/dist-packages (from python-dev-tools) (0.7.1)\n",
            "Requirement already satisfied: flake8-executable<3,>=2 in /usr/local/lib/python3.10/dist-packages (from python-dev-tools) (2.1.3)\n",
            "Requirement already satisfied: pytest-sugar<1,>=0 in /usr/local/lib/python3.10/dist-packages (from python-dev-tools) (0.9.7)\n",
            "Requirement already satisfied: tomli>=2.0.1 in /usr/local/lib/python3.10/dist-packages (from autoflake<2,>=1->python-dev-tools) (2.0.1)\n",
            "Requirement already satisfied: pyflakes<3,>=1.1.0 in /usr/local/lib/python3.10/dist-packages (from autoflake<2,>=1->python-dev-tools) (2.5.0)\n",
            "Requirement already satisfied: mypy-extensions>=0.4.3 in /usr/local/lib/python3.10/dist-packages (from black<24,>=23->python-dev-tools) (1.0.0)\n",
            "Requirement already satisfied: pathspec>=0.9.0 in /usr/local/lib/python3.10/dist-packages (from black<24,>=23->python-dev-tools) (0.12.1)\n",
            "Requirement already satisfied: typing-extensions>=4.0.1 in /usr/local/lib/python3.10/dist-packages (from black<24,>=23->python-dev-tools) (4.9.0)\n",
            "Requirement already satisfied: platformdirs>=2 in /usr/local/lib/python3.10/dist-packages (from black<24,>=23->python-dev-tools) (4.1.0)\n",
            "Requirement already satisfied: click>=8.0.0 in /usr/local/lib/python3.10/dist-packages (from black<24,>=23->python-dev-tools) (8.1.7)\n",
            "Requirement already satisfied: packaging>=22.0 in /usr/local/lib/python3.10/dist-packages (from black<24,>=23->python-dev-tools) (23.2)\n",
            "Requirement already satisfied: restructuredtext-lint>=0.7 in /usr/local/lib/python3.10/dist-packages (from doc8<2,>=1->python-dev-tools) (1.4.0)\n",
            "Requirement already satisfied: Pygments in /usr/local/lib/python3.10/dist-packages (from doc8<2,>=1->python-dev-tools) (2.16.1)\n",
            "Requirement already satisfied: stevedore in /usr/local/lib/python3.10/dist-packages (from doc8<2,>=1->python-dev-tools) (5.1.0)\n",
            "Requirement already satisfied: docutils<0.21,>=0.19 in /usr/local/lib/python3.10/dist-packages (from doc8<2,>=1->python-dev-tools) (0.19)\n",
            "Requirement already satisfied: untokenize<0.2.0,>=0.1.1 in /usr/local/lib/python3.10/dist-packages (from docformatter<2,>=1->python-dev-tools) (0.1.1)\n",
            "Requirement already satisfied: charset_normalizer<4.0.0,>=3.0.0 in /usr/local/lib/python3.10/dist-packages (from docformatter<2,>=1->python-dev-tools) (3.3.2)\n",
            "Requirement already satisfied: mccabe<0.8.0,>=0.7.0 in /usr/local/lib/python3.10/dist-packages (from flake8<6,>=5->python-dev-tools) (0.7.0)\n",
            "Requirement already satisfied: asttokens>=2 in /usr/local/lib/python3.10/dist-packages (from flake8-aaa<1,>=0->python-dev-tools) (2.4.1)\n",
            "Requirement already satisfied: attrs>=21.4 in /usr/local/lib/python3.10/dist-packages (from flake8-annotations<4,>=3->python-dev-tools) (23.1.0)\n",
            "Requirement already satisfied: bandit>=1.7.3 in /usr/local/lib/python3.10/dist-packages (from flake8-bandit<5,>=4->python-dev-tools) (1.7.6)\n",
            "Requirement already satisfied: flake8-plugin-utils<2.0,>=1.0 in /usr/local/lib/python3.10/dist-packages (from flake8-breakpoint<2,>=1->python-dev-tools) (1.3.3)\n",
            "Requirement already satisfied: setuptools in /usr/local/lib/python3.10/dist-packages (from flake8-cognitive-complexity<1,>=0->python-dev-tools) (67.7.2)\n",
            "Requirement already satisfied: cognitive-complexity in /usr/local/lib/python3.10/dist-packages (from flake8-cognitive-complexity<1,>=0->python-dev-tools) (1.3.0)\n",
            "Requirement already satisfied: astroid<3.0.0,>=2.15.2 in /usr/local/lib/python3.10/dist-packages (from flake8-django<2,>=1->python-dev-tools) (2.15.8)\n",
            "Requirement already satisfied: domdf-python-tools>=2.8.1 in /usr/local/lib/python3.10/dist-packages (from flake8-encodings<1,>=0->python-dev-tools) (3.8.0.post2)\n",
            "Requirement already satisfied: astatine>=0.3.1 in /usr/local/lib/python3.10/dist-packages (from flake8-encodings<1,>=0->python-dev-tools) (0.3.3)\n",
            "Requirement already satisfied: flake8-helper>=0.1.1 in /usr/local/lib/python3.10/dist-packages (from flake8-encodings<1,>=0->python-dev-tools) (0.2.2)\n",
            "Requirement already satisfied: eradicate<3.0,>=2.0 in /usr/local/lib/python3.10/dist-packages (from flake8-eradicate<2,>=1->python-dev-tools) (2.3.0)\n",
            "Requirement already satisfied: astpretty in /usr/local/lib/python3.10/dist-packages (from flake8-expression-complexity<1,>=0->python-dev-tools) (3.0.0)\n",
            "Requirement already satisfied: fastapi>=0.65.1 in /usr/local/lib/python3.10/dist-packages (from flake8-fastapi<1,>=0->python-dev-tools) (0.108.0)\n",
            "Requirement already satisfied: mr-proper in /usr/local/lib/python3.10/dist-packages (from flake8-functions<1,>=0->python-dev-tools) (0.0.7)\n",
            "Requirement already satisfied: isort<6,>=5.0.0 in /usr/local/lib/python3.10/dist-packages (from flake8-isort<7,>=6->python-dev-tools) (5.13.2)\n",
            "Requirement already satisfied: pylint in /usr/local/lib/python3.10/dist-packages (from flake8-pylint<1,>=0->python-dev-tools) (2.17.7)\n",
            "Requirement already satisfied: astor>=0.1 in /usr/local/lib/python3.10/dist-packages (from flake8-simplify<1,>=0->python-dev-tools) (0.8.1)\n",
            "Requirement already satisfied: libcst<0.5.0,>=0.4.1 in /usr/local/lib/python3.10/dist-packages (from pybetter<1,>=0->python-dev-tools) (0.4.10)\n",
            "Requirement already satisfied: hypothesmith<0.2.0,>=0.1.8 in /usr/local/lib/python3.10/dist-packages (from pybetter<1,>=0->python-dev-tools) (0.1.9)\n",
            "Requirement already satisfied: pyemojify<0.3.0,>=0.2.0 in /usr/local/lib/python3.10/dist-packages (from pybetter<1,>=0->python-dev-tools) (0.2.0)\n",
            "Requirement already satisfied: tomlkit>=0.11.1 in /usr/local/lib/python3.10/dist-packages (from pycln<3,>=1->python-dev-tools) (0.12.3)\n",
            "Requirement already satisfied: typer>=0.4.1 in /usr/local/lib/python3.10/dist-packages (from pycln<3,>=1->python-dev-tools) (0.9.0)\n",
            "Requirement already satisfied: pyyaml>=5.3.1 in /usr/local/lib/python3.10/dist-packages (from pycln<3,>=1->python-dev-tools) (6.0.1)\n",
            "Requirement already satisfied: snowballstemmer>=2.2.0 in /usr/local/lib/python3.10/dist-packages (from pydocstyle<7,>=6->python-dev-tools) (2.2.0)\n",
            "Requirement already satisfied: iniconfig in /usr/local/lib/python3.10/dist-packages (from pytest<8,>=7->python-dev-tools) (2.0.0)\n",
            "Requirement already satisfied: pluggy<2.0,>=0.12 in /usr/local/lib/python3.10/dist-packages (from pytest<8,>=7->python-dev-tools) (1.3.0)\n",
            "Requirement already satisfied: exceptiongroup>=1.0.0rc8 in /usr/local/lib/python3.10/dist-packages (from pytest<8,>=7->python-dev-tools) (1.2.0)\n",
            "Requirement already satisfied: termcolor>=2.1.0 in /usr/local/lib/python3.10/dist-packages (from pytest-sugar<1,>=0->python-dev-tools) (2.4.0)\n",
            "Requirement already satisfied: tokenize-rt>=5.2.0 in /usr/local/lib/python3.10/dist-packages (from pyupgrade<4,>=3->python-dev-tools) (5.2.0)\n",
            "Requirement already satisfied: nbformat in /usr/local/lib/python3.10/dist-packages (from removestar<2,>=1->python-dev-tools) (5.9.2)\n",
            "Requirement already satisfied: nbconvert in /usr/local/lib/python3.10/dist-packages (from removestar<2,>=1->python-dev-tools) (6.5.4)\n",
            "Requirement already satisfied: imagesize>=1.3 in /usr/local/lib/python3.10/dist-packages (from Sphinx<7,>=6->python-dev-tools) (1.4.1)\n",
            "Requirement already satisfied: sphinxcontrib-qthelp in /usr/local/lib/python3.10/dist-packages (from Sphinx<7,>=6->python-dev-tools) (1.0.6)\n",
            "Requirement already satisfied: sphinxcontrib-htmlhelp>=2.0.0 in /usr/local/lib/python3.10/dist-packages (from Sphinx<7,>=6->python-dev-tools) (2.0.4)\n",
            "Requirement already satisfied: babel>=2.9 in /usr/local/lib/python3.10/dist-packages (from Sphinx<7,>=6->python-dev-tools) (2.14.0)\n",
            "Requirement already satisfied: alabaster<0.8,>=0.7 in /usr/local/lib/python3.10/dist-packages (from Sphinx<7,>=6->python-dev-tools) (0.7.13)\n",
            "Requirement already satisfied: requests>=2.25.0 in /usr/local/lib/python3.10/dist-packages (from Sphinx<7,>=6->python-dev-tools) (2.31.0)\n",
            "Requirement already satisfied: sphinxcontrib-jsmath in /usr/local/lib/python3.10/dist-packages (from Sphinx<7,>=6->python-dev-tools) (1.0.1)\n",
            "Requirement already satisfied: sphinxcontrib-applehelp in /usr/local/lib/python3.10/dist-packages (from Sphinx<7,>=6->python-dev-tools) (1.0.7)\n",
            "Requirement already satisfied: Jinja2>=3.0 in /usr/local/lib/python3.10/dist-packages (from Sphinx<7,>=6->python-dev-tools) (3.1.2)\n",
            "Requirement already satisfied: sphinxcontrib-devhelp in /usr/local/lib/python3.10/dist-packages (from Sphinx<7,>=6->python-dev-tools) (1.0.5)\n",
            "Requirement already satisfied: sphinxcontrib-serializinghtml>=1.1.5 in /usr/local/lib/python3.10/dist-packages (from Sphinx<7,>=6->python-dev-tools) (1.1.9)\n",
            "Requirement already satisfied: chardet>=5.2 in /usr/local/lib/python3.10/dist-packages (from tox<5,>=4->python-dev-tools) (5.2.0)\n",
            "Requirement already satisfied: colorama>=0.4.6 in /usr/local/lib/python3.10/dist-packages (from tox<5,>=4->python-dev-tools) (0.4.6)\n",
            "Requirement already satisfied: pyproject-api>=1.6.1 in /usr/local/lib/python3.10/dist-packages (from tox<5,>=4->python-dev-tools) (1.6.1)\n",
            "Requirement already satisfied: filelock>=3.12.3 in /usr/local/lib/python3.10/dist-packages (from tox<5,>=4->python-dev-tools) (3.13.1)\n",
            "Requirement already satisfied: virtualenv>=20.24.3 in /usr/local/lib/python3.10/dist-packages (from tox<5,>=4->python-dev-tools) (20.25.0)\n",
            "Requirement already satisfied: cachetools>=5.3.1 in /usr/local/lib/python3.10/dist-packages (from tox<5,>=4->python-dev-tools) (5.3.2)\n",
            "Requirement already satisfied: lazy-object-proxy>=1.4.0 in /usr/local/lib/python3.10/dist-packages (from astroid<3.0.0,>=2.15.2->flake8-django<2,>=1->python-dev-tools) (1.10.0)\n",
            "Requirement already satisfied: wrapt<2,>=1.11 in /usr/local/lib/python3.10/dist-packages (from astroid<3.0.0,>=2.15.2->flake8-django<2,>=1->python-dev-tools) (1.14.1)\n",
            "Requirement already satisfied: six>=1.12.0 in /usr/local/lib/python3.10/dist-packages (from asttokens>=2->flake8-aaa<1,>=0->python-dev-tools) (1.16.0)\n",
            "Requirement already satisfied: GitPython>=3.1.30 in /usr/local/lib/python3.10/dist-packages (from bandit>=1.7.3->flake8-bandit<5,>=4->python-dev-tools) (3.1.40)\n",
            "Requirement already satisfied: rich in /usr/local/lib/python3.10/dist-packages (from bandit>=1.7.3->flake8-bandit<5,>=4->python-dev-tools) (13.7.0)\n",
            "Requirement already satisfied: natsort>=7.0.1 in /usr/local/lib/python3.10/dist-packages (from domdf-python-tools>=2.8.1->flake8-encodings<1,>=0->python-dev-tools) (8.4.0)\n",
            "Requirement already satisfied: pydantic!=1.8,!=1.8.1,!=2.0.0,!=2.0.1,!=2.1.0,<3.0.0,>=1.7.4 in /usr/local/lib/python3.10/dist-packages (from fastapi>=0.65.1->flake8-fastapi<1,>=0->python-dev-tools) (1.10.13)\n",
            "Requirement already satisfied: starlette<0.33.0,>=0.29.0 in /usr/local/lib/python3.10/dist-packages (from fastapi>=0.65.1->flake8-fastapi<1,>=0->python-dev-tools) (0.32.0.post1)\n",
            "Requirement already satisfied: lark-parser>=0.7.2 in /usr/local/lib/python3.10/dist-packages (from hypothesmith<0.2.0,>=0.1.8->pybetter<1,>=0->python-dev-tools) (0.12.0)\n",
            "Requirement already satisfied: hypothesis>=5.41.0 in /usr/local/lib/python3.10/dist-packages (from hypothesmith<0.2.0,>=0.1.8->pybetter<1,>=0->python-dev-tools) (6.92.2)\n",
            "Requirement already satisfied: MarkupSafe>=2.0 in /usr/local/lib/python3.10/dist-packages (from Jinja2>=3.0->Sphinx<7,>=6->python-dev-tools) (2.1.3)\n",
            "Requirement already satisfied: typing-inspect>=0.4.0 in /usr/local/lib/python3.10/dist-packages (from libcst<0.5.0,>=0.4.1->pybetter<1,>=0->python-dev-tools) (0.9.0)\n",
            "Requirement already satisfied: certifi>=2017.4.17 in /usr/local/lib/python3.10/dist-packages (from requests>=2.25.0->Sphinx<7,>=6->python-dev-tools) (2023.11.17)\n",
            "Requirement already satisfied: urllib3<3,>=1.21.1 in /usr/local/lib/python3.10/dist-packages (from requests>=2.25.0->Sphinx<7,>=6->python-dev-tools) (2.0.7)\n",
            "Requirement already satisfied: idna<4,>=2.5 in /usr/local/lib/python3.10/dist-packages (from requests>=2.25.0->Sphinx<7,>=6->python-dev-tools) (3.6)\n",
            "Requirement already satisfied: pbr!=2.1.0,>=2.0.0 in /usr/local/lib/python3.10/dist-packages (from stevedore->doc8<2,>=1->python-dev-tools) (6.0.0)\n",
            "Requirement already satisfied: distlib<1,>=0.3.7 in /usr/local/lib/python3.10/dist-packages (from virtualenv>=20.24.3->tox<5,>=4->python-dev-tools) (0.3.8)\n",
            "Requirement already satisfied: stdlib-list>=0.5.0 in /usr/local/lib/python3.10/dist-packages (from mr-proper->flake8-functions<1,>=0->python-dev-tools) (0.10.0)\n",
            "Requirement already satisfied: jupyterlab-pygments in /usr/local/lib/python3.10/dist-packages (from nbconvert->removestar<2,>=1->python-dev-tools) (0.3.0)\n",
            "Requirement already satisfied: pandocfilters>=1.4.1 in /usr/local/lib/python3.10/dist-packages (from nbconvert->removestar<2,>=1->python-dev-tools) (1.5.0)\n",
            "Requirement already satisfied: nbclient>=0.5.0 in /usr/local/lib/python3.10/dist-packages (from nbconvert->removestar<2,>=1->python-dev-tools) (0.9.0)\n",
            "Requirement already satisfied: entrypoints>=0.2.2 in /usr/local/lib/python3.10/dist-packages (from nbconvert->removestar<2,>=1->python-dev-tools) (0.4)\n",
            "Requirement already satisfied: tinycss2 in /usr/local/lib/python3.10/dist-packages (from nbconvert->removestar<2,>=1->python-dev-tools) (1.2.1)\n",
            "Requirement already satisfied: bleach in /usr/local/lib/python3.10/dist-packages (from nbconvert->removestar<2,>=1->python-dev-tools) (6.1.0)\n",
            "Requirement already satisfied: traitlets>=5.0 in /usr/local/lib/python3.10/dist-packages (from nbconvert->removestar<2,>=1->python-dev-tools) (5.7.1)\n",
            "Requirement already satisfied: jupyter-core>=4.7 in /usr/local/lib/python3.10/dist-packages (from nbconvert->removestar<2,>=1->python-dev-tools) (5.5.1)\n",
            "Requirement already satisfied: mistune<2,>=0.8.1 in /usr/local/lib/python3.10/dist-packages (from nbconvert->removestar<2,>=1->python-dev-tools) (0.8.4)\n",
            "Requirement already satisfied: defusedxml in /usr/local/lib/python3.10/dist-packages (from nbconvert->removestar<2,>=1->python-dev-tools) (0.7.1)\n",
            "Requirement already satisfied: lxml in /usr/local/lib/python3.10/dist-packages (from nbconvert->removestar<2,>=1->python-dev-tools) (4.9.3)\n",
            "Requirement already satisfied: beautifulsoup4 in /usr/local/lib/python3.10/dist-packages (from nbconvert->removestar<2,>=1->python-dev-tools) (4.11.2)\n",
            "Requirement already satisfied: fastjsonschema in /usr/local/lib/python3.10/dist-packages (from nbformat->removestar<2,>=1->python-dev-tools) (2.19.0)\n",
            "Requirement already satisfied: jsonschema>=2.6 in /usr/local/lib/python3.10/dist-packages (from nbformat->removestar<2,>=1->python-dev-tools) (4.19.2)\n",
            "Requirement already satisfied: dill>=0.2 in /usr/local/lib/python3.10/dist-packages (from pylint->flake8-pylint<1,>=0->python-dev-tools) (0.3.7)\n",
            "Requirement already satisfied: gitdb<5,>=4.0.1 in /usr/local/lib/python3.10/dist-packages (from GitPython>=3.1.30->bandit>=1.7.3->flake8-bandit<5,>=4->python-dev-tools) (4.0.11)\n",
            "Requirement already satisfied: sortedcontainers<3.0.0,>=2.1.0 in /usr/local/lib/python3.10/dist-packages (from hypothesis>=5.41.0->hypothesmith<0.2.0,>=0.1.8->pybetter<1,>=0->python-dev-tools) (2.4.0)\n",
            "Requirement already satisfied: jsonschema-specifications>=2023.03.6 in /usr/local/lib/python3.10/dist-packages (from jsonschema>=2.6->nbformat->removestar<2,>=1->python-dev-tools) (2023.11.2)\n",
            "Requirement already satisfied: rpds-py>=0.7.1 in /usr/local/lib/python3.10/dist-packages (from jsonschema>=2.6->nbformat->removestar<2,>=1->python-dev-tools) (0.15.2)\n",
            "Requirement already satisfied: referencing>=0.28.4 in /usr/local/lib/python3.10/dist-packages (from jsonschema>=2.6->nbformat->removestar<2,>=1->python-dev-tools) (0.32.0)\n",
            "Requirement already satisfied: jupyter-client>=6.1.12 in /usr/local/lib/python3.10/dist-packages (from nbclient>=0.5.0->nbconvert->removestar<2,>=1->python-dev-tools) (6.1.12)\n",
            "Requirement already satisfied: anyio<5,>=3.4.0 in /usr/local/lib/python3.10/dist-packages (from starlette<0.33.0,>=0.29.0->fastapi>=0.65.1->flake8-fastapi<1,>=0->python-dev-tools) (3.7.1)\n",
            "Requirement already satisfied: soupsieve>1.2 in /usr/local/lib/python3.10/dist-packages (from beautifulsoup4->nbconvert->removestar<2,>=1->python-dev-tools) (2.5)\n",
            "Requirement already satisfied: webencodings in /usr/local/lib/python3.10/dist-packages (from bleach->nbconvert->removestar<2,>=1->python-dev-tools) (0.5.1)\n",
            "Requirement already satisfied: markdown-it-py>=2.2.0 in /usr/local/lib/python3.10/dist-packages (from rich->bandit>=1.7.3->flake8-bandit<5,>=4->python-dev-tools) (3.0.0)\n",
            "Requirement already satisfied: sniffio>=1.1 in /usr/local/lib/python3.10/dist-packages (from anyio<5,>=3.4.0->starlette<0.33.0,>=0.29.0->fastapi>=0.65.1->flake8-fastapi<1,>=0->python-dev-tools) (1.3.0)\n",
            "Requirement already satisfied: smmap<6,>=3.0.1 in /usr/local/lib/python3.10/dist-packages (from gitdb<5,>=4.0.1->GitPython>=3.1.30->bandit>=1.7.3->flake8-bandit<5,>=4->python-dev-tools) (5.0.1)\n",
            "Requirement already satisfied: tornado>=4.1 in /usr/local/lib/python3.10/dist-packages (from jupyter-client>=6.1.12->nbclient>=0.5.0->nbconvert->removestar<2,>=1->python-dev-tools) (6.3.2)\n",
            "Requirement already satisfied: python-dateutil>=2.1 in /usr/local/lib/python3.10/dist-packages (from jupyter-client>=6.1.12->nbclient>=0.5.0->nbconvert->removestar<2,>=1->python-dev-tools) (2.8.2)\n",
            "Requirement already satisfied: pyzmq>=13 in /usr/local/lib/python3.10/dist-packages (from jupyter-client>=6.1.12->nbclient>=0.5.0->nbconvert->removestar<2,>=1->python-dev-tools) (23.2.1)\n",
            "Requirement already satisfied: mdurl~=0.1 in /usr/local/lib/python3.10/dist-packages (from markdown-it-py>=2.2.0->rich->bandit>=1.7.3->flake8-bandit<5,>=4->python-dev-tools) (0.1.2)\n",
            "\u001b[33mWARNING: Running pip as the 'root' user can result in broken permissions and conflicting behaviour with the system package manager. It is recommended to use a virtual environment instead: https://pip.pypa.io/warnings/venv\u001b[0m\u001b[33m\n",
            "\u001b[0m"
          ]
        }
      ]
    },
    {
      "cell_type": "code",
      "source": [
        "%pip install -r requirements.txt"
      ],
      "metadata": {
        "id": "Cool57g7sVmF",
        "colab": {
          "base_uri": "https://localhost:8080/"
        },
        "outputId": "b6f67c1b-087a-4dd8-e28a-e883bc541e2b"
      },
      "execution_count": 3,
      "outputs": [
        {
          "output_type": "stream",
          "name": "stdout",
          "text": [
            "Requirement already satisfied: hdbscan in /usr/local/lib/python3.10/dist-packages (from -r requirements.txt (line 1)) (0.8.33)\n",
            "Requirement already satisfied: langchain==0.0.194 in /usr/local/lib/python3.10/dist-packages (from -r requirements.txt (line 2)) (0.0.194)\n",
            "Requirement already satisfied: openai==0.27.8 in /usr/local/lib/python3.10/dist-packages (from -r requirements.txt (line 3)) (0.27.8)\n",
            "Requirement already satisfied: pandas==2.0.2 in /usr/local/lib/python3.10/dist-packages (from -r requirements.txt (line 4)) (2.0.2)\n",
            "Requirement already satisfied: python-dotenv==1.0.0 in /usr/local/lib/python3.10/dist-packages (from -r requirements.txt (line 5)) (1.0.0)\n",
            "Requirement already satisfied: tiktoken==0.4.0 in /usr/local/lib/python3.10/dist-packages (from -r requirements.txt (line 6)) (0.4.0)\n",
            "Requirement already satisfied: newsapi-python==0.2.7 in /usr/local/lib/python3.10/dist-packages (from -r requirements.txt (line 7)) (0.2.7)\n",
            "Requirement already satisfied: notebook==6.5.4 in /usr/local/lib/python3.10/dist-packages (from -r requirements.txt (line 8)) (6.5.4)\n",
            "Requirement already satisfied: numpy<2,>=1 in /usr/local/lib/python3.10/dist-packages (from langchain==0.0.194->-r requirements.txt (line 2)) (1.23.5)\n",
            "Requirement already satisfied: requests<3,>=2 in /usr/local/lib/python3.10/dist-packages (from langchain==0.0.194->-r requirements.txt (line 2)) (2.31.0)\n",
            "Requirement already satisfied: PyYAML>=5.4.1 in /usr/local/lib/python3.10/dist-packages (from langchain==0.0.194->-r requirements.txt (line 2)) (6.0.1)\n",
            "Requirement already satisfied: pydantic<2,>=1 in /usr/local/lib/python3.10/dist-packages (from langchain==0.0.194->-r requirements.txt (line 2)) (1.10.13)\n",
            "Requirement already satisfied: langchainplus-sdk>=0.0.6 in /usr/local/lib/python3.10/dist-packages (from langchain==0.0.194->-r requirements.txt (line 2)) (0.0.20)\n",
            "Requirement already satisfied: numexpr<3.0.0,>=2.8.4 in /usr/local/lib/python3.10/dist-packages (from langchain==0.0.194->-r requirements.txt (line 2)) (2.8.8)\n",
            "Requirement already satisfied: openapi-schema-pydantic<2.0,>=1.2 in /usr/local/lib/python3.10/dist-packages (from langchain==0.0.194->-r requirements.txt (line 2)) (1.2.4)\n",
            "Requirement already satisfied: dataclasses-json<0.6.0,>=0.5.7 in /usr/local/lib/python3.10/dist-packages (from langchain==0.0.194->-r requirements.txt (line 2)) (0.5.14)\n",
            "Requirement already satisfied: SQLAlchemy<3,>=1.4 in /usr/local/lib/python3.10/dist-packages (from langchain==0.0.194->-r requirements.txt (line 2)) (2.0.23)\n",
            "Requirement already satisfied: aiohttp<4.0.0,>=3.8.3 in /usr/local/lib/python3.10/dist-packages (from langchain==0.0.194->-r requirements.txt (line 2)) (3.9.1)\n",
            "Requirement already satisfied: tenacity<9.0.0,>=8.1.0 in /usr/local/lib/python3.10/dist-packages (from langchain==0.0.194->-r requirements.txt (line 2)) (8.2.3)\n",
            "Requirement already satisfied: async-timeout<5.0.0,>=4.0.0 in /usr/local/lib/python3.10/dist-packages (from langchain==0.0.194->-r requirements.txt (line 2)) (4.0.3)\n",
            "Requirement already satisfied: tqdm in /usr/local/lib/python3.10/dist-packages (from openai==0.27.8->-r requirements.txt (line 3)) (4.66.1)\n",
            "Requirement already satisfied: pytz>=2020.1 in /usr/local/lib/python3.10/dist-packages (from pandas==2.0.2->-r requirements.txt (line 4)) (2023.3.post1)\n",
            "Requirement already satisfied: tzdata>=2022.1 in /usr/local/lib/python3.10/dist-packages (from pandas==2.0.2->-r requirements.txt (line 4)) (2023.4)\n",
            "Requirement already satisfied: python-dateutil>=2.8.2 in /usr/local/lib/python3.10/dist-packages (from pandas==2.0.2->-r requirements.txt (line 4)) (2.8.2)\n",
            "Requirement already satisfied: regex>=2022.1.18 in /usr/local/lib/python3.10/dist-packages (from tiktoken==0.4.0->-r requirements.txt (line 6)) (2023.6.3)\n",
            "Requirement already satisfied: argon2-cffi in /usr/local/lib/python3.10/dist-packages (from notebook==6.5.4->-r requirements.txt (line 8)) (23.1.0)\n",
            "Requirement already satisfied: nest-asyncio>=1.5 in /usr/local/lib/python3.10/dist-packages (from notebook==6.5.4->-r requirements.txt (line 8)) (1.5.8)\n",
            "Requirement already satisfied: ipython-genutils in /usr/local/lib/python3.10/dist-packages (from notebook==6.5.4->-r requirements.txt (line 8)) (0.2.0)\n",
            "Requirement already satisfied: Send2Trash>=1.8.0 in /usr/local/lib/python3.10/dist-packages (from notebook==6.5.4->-r requirements.txt (line 8)) (1.8.2)\n",
            "Requirement already satisfied: pyzmq>=17 in /usr/local/lib/python3.10/dist-packages (from notebook==6.5.4->-r requirements.txt (line 8)) (23.2.1)\n",
            "Requirement already satisfied: nbclassic>=0.4.7 in /usr/local/lib/python3.10/dist-packages (from notebook==6.5.4->-r requirements.txt (line 8)) (1.0.0)\n",
            "Requirement already satisfied: jinja2 in /usr/local/lib/python3.10/dist-packages (from notebook==6.5.4->-r requirements.txt (line 8)) (3.1.2)\n",
            "Requirement already satisfied: nbconvert>=5 in /usr/local/lib/python3.10/dist-packages (from notebook==6.5.4->-r requirements.txt (line 8)) (6.5.4)\n",
            "Requirement already satisfied: ipykernel in /usr/local/lib/python3.10/dist-packages (from notebook==6.5.4->-r requirements.txt (line 8)) (5.5.6)\n",
            "Requirement already satisfied: terminado>=0.8.3 in /usr/local/lib/python3.10/dist-packages (from notebook==6.5.4->-r requirements.txt (line 8)) (0.18.0)\n",
            "Requirement already satisfied: prometheus-client in /usr/local/lib/python3.10/dist-packages (from notebook==6.5.4->-r requirements.txt (line 8)) (0.19.0)\n",
            "Requirement already satisfied: traitlets>=4.2.1 in /usr/local/lib/python3.10/dist-packages (from notebook==6.5.4->-r requirements.txt (line 8)) (5.7.1)\n",
            "Requirement already satisfied: tornado>=6.1 in /usr/local/lib/python3.10/dist-packages (from notebook==6.5.4->-r requirements.txt (line 8)) (6.3.2)\n",
            "Requirement already satisfied: nbformat in /usr/local/lib/python3.10/dist-packages (from notebook==6.5.4->-r requirements.txt (line 8)) (5.9.2)\n",
            "Requirement already satisfied: jupyter-core>=4.6.1 in /usr/local/lib/python3.10/dist-packages (from notebook==6.5.4->-r requirements.txt (line 8)) (5.5.1)\n",
            "Requirement already satisfied: jupyter-client>=5.3.4 in /usr/local/lib/python3.10/dist-packages (from notebook==6.5.4->-r requirements.txt (line 8)) (6.1.12)\n",
            "Requirement already satisfied: cython<3,>=0.27 in /usr/local/lib/python3.10/dist-packages (from hdbscan->-r requirements.txt (line 1)) (0.29.37)\n",
            "Requirement already satisfied: scikit-learn>=0.20 in /usr/local/lib/python3.10/dist-packages (from hdbscan->-r requirements.txt (line 1)) (1.2.2)\n",
            "Requirement already satisfied: joblib>=1.0 in /usr/local/lib/python3.10/dist-packages (from hdbscan->-r requirements.txt (line 1)) (1.3.2)\n",
            "Requirement already satisfied: scipy>=1.0 in /usr/local/lib/python3.10/dist-packages (from hdbscan->-r requirements.txt (line 1)) (1.11.4)\n",
            "Requirement already satisfied: aiosignal>=1.1.2 in /usr/local/lib/python3.10/dist-packages (from aiohttp<4.0.0,>=3.8.3->langchain==0.0.194->-r requirements.txt (line 2)) (1.3.1)\n",
            "Requirement already satisfied: frozenlist>=1.1.1 in /usr/local/lib/python3.10/dist-packages (from aiohttp<4.0.0,>=3.8.3->langchain==0.0.194->-r requirements.txt (line 2)) (1.4.1)\n",
            "Requirement already satisfied: attrs>=17.3.0 in /usr/local/lib/python3.10/dist-packages (from aiohttp<4.0.0,>=3.8.3->langchain==0.0.194->-r requirements.txt (line 2)) (23.1.0)\n",
            "Requirement already satisfied: yarl<2.0,>=1.0 in /usr/local/lib/python3.10/dist-packages (from aiohttp<4.0.0,>=3.8.3->langchain==0.0.194->-r requirements.txt (line 2)) (1.9.4)\n",
            "Requirement already satisfied: multidict<7.0,>=4.5 in /usr/local/lib/python3.10/dist-packages (from aiohttp<4.0.0,>=3.8.3->langchain==0.0.194->-r requirements.txt (line 2)) (6.0.4)\n",
            "Requirement already satisfied: marshmallow<4.0.0,>=3.18.0 in /usr/local/lib/python3.10/dist-packages (from dataclasses-json<0.6.0,>=0.5.7->langchain==0.0.194->-r requirements.txt (line 2)) (3.20.1)\n",
            "Requirement already satisfied: typing-inspect<1,>=0.4.0 in /usr/local/lib/python3.10/dist-packages (from dataclasses-json<0.6.0,>=0.5.7->langchain==0.0.194->-r requirements.txt (line 2)) (0.9.0)\n",
            "Requirement already satisfied: platformdirs>=2.5 in /usr/local/lib/python3.10/dist-packages (from jupyter-core>=4.6.1->notebook==6.5.4->-r requirements.txt (line 8)) (4.1.0)\n",
            "Requirement already satisfied: notebook-shim>=0.2.3 in /usr/local/lib/python3.10/dist-packages (from nbclassic>=0.4.7->notebook==6.5.4->-r requirements.txt (line 8)) (0.2.3)\n",
            "Requirement already satisfied: jupyter-server>=1.8 in /usr/local/lib/python3.10/dist-packages (from nbclassic>=0.4.7->notebook==6.5.4->-r requirements.txt (line 8)) (1.24.0)\n",
            "Requirement already satisfied: tinycss2 in /usr/local/lib/python3.10/dist-packages (from nbconvert>=5->notebook==6.5.4->-r requirements.txt (line 8)) (1.2.1)\n",
            "Requirement already satisfied: pandocfilters>=1.4.1 in /usr/local/lib/python3.10/dist-packages (from nbconvert>=5->notebook==6.5.4->-r requirements.txt (line 8)) (1.5.0)\n",
            "Requirement already satisfied: bleach in /usr/local/lib/python3.10/dist-packages (from nbconvert>=5->notebook==6.5.4->-r requirements.txt (line 8)) (6.1.0)\n",
            "Requirement already satisfied: defusedxml in /usr/local/lib/python3.10/dist-packages (from nbconvert>=5->notebook==6.5.4->-r requirements.txt (line 8)) (0.7.1)\n",
            "Requirement already satisfied: jupyterlab-pygments in /usr/local/lib/python3.10/dist-packages (from nbconvert>=5->notebook==6.5.4->-r requirements.txt (line 8)) (0.3.0)\n",
            "Requirement already satisfied: lxml in /usr/local/lib/python3.10/dist-packages (from nbconvert>=5->notebook==6.5.4->-r requirements.txt (line 8)) (4.9.3)\n",
            "Requirement already satisfied: entrypoints>=0.2.2 in /usr/local/lib/python3.10/dist-packages (from nbconvert>=5->notebook==6.5.4->-r requirements.txt (line 8)) (0.4)\n",
            "Requirement already satisfied: packaging in /usr/local/lib/python3.10/dist-packages (from nbconvert>=5->notebook==6.5.4->-r requirements.txt (line 8)) (23.2)\n",
            "Requirement already satisfied: MarkupSafe>=2.0 in /usr/local/lib/python3.10/dist-packages (from nbconvert>=5->notebook==6.5.4->-r requirements.txt (line 8)) (2.1.3)\n",
            "Requirement already satisfied: mistune<2,>=0.8.1 in /usr/local/lib/python3.10/dist-packages (from nbconvert>=5->notebook==6.5.4->-r requirements.txt (line 8)) (0.8.4)\n",
            "Requirement already satisfied: beautifulsoup4 in /usr/local/lib/python3.10/dist-packages (from nbconvert>=5->notebook==6.5.4->-r requirements.txt (line 8)) (4.11.2)\n",
            "Requirement already satisfied: nbclient>=0.5.0 in /usr/local/lib/python3.10/dist-packages (from nbconvert>=5->notebook==6.5.4->-r requirements.txt (line 8)) (0.9.0)\n",
            "Requirement already satisfied: pygments>=2.4.1 in /usr/local/lib/python3.10/dist-packages (from nbconvert>=5->notebook==6.5.4->-r requirements.txt (line 8)) (2.16.1)\n",
            "Requirement already satisfied: jsonschema>=2.6 in /usr/local/lib/python3.10/dist-packages (from nbformat->notebook==6.5.4->-r requirements.txt (line 8)) (4.19.2)\n",
            "Requirement already satisfied: fastjsonschema in /usr/local/lib/python3.10/dist-packages (from nbformat->notebook==6.5.4->-r requirements.txt (line 8)) (2.19.0)\n",
            "Requirement already satisfied: typing-extensions>=4.2.0 in /usr/local/lib/python3.10/dist-packages (from pydantic<2,>=1->langchain==0.0.194->-r requirements.txt (line 2)) (4.9.0)\n",
            "Requirement already satisfied: six>=1.5 in /usr/local/lib/python3.10/dist-packages (from python-dateutil>=2.8.2->pandas==2.0.2->-r requirements.txt (line 4)) (1.16.0)\n",
            "Requirement already satisfied: charset-normalizer<4,>=2 in /usr/local/lib/python3.10/dist-packages (from requests<3,>=2->langchain==0.0.194->-r requirements.txt (line 2)) (3.3.2)\n",
            "Requirement already satisfied: urllib3<3,>=1.21.1 in /usr/local/lib/python3.10/dist-packages (from requests<3,>=2->langchain==0.0.194->-r requirements.txt (line 2)) (2.0.7)\n",
            "Requirement already satisfied: idna<4,>=2.5 in /usr/local/lib/python3.10/dist-packages (from requests<3,>=2->langchain==0.0.194->-r requirements.txt (line 2)) (3.6)\n",
            "Requirement already satisfied: certifi>=2017.4.17 in /usr/local/lib/python3.10/dist-packages (from requests<3,>=2->langchain==0.0.194->-r requirements.txt (line 2)) (2023.11.17)\n",
            "Requirement already satisfied: threadpoolctl>=2.0.0 in /usr/local/lib/python3.10/dist-packages (from scikit-learn>=0.20->hdbscan->-r requirements.txt (line 1)) (3.2.0)\n",
            "Requirement already satisfied: greenlet!=0.4.17 in /usr/local/lib/python3.10/dist-packages (from SQLAlchemy<3,>=1.4->langchain==0.0.194->-r requirements.txt (line 2)) (3.0.2)\n",
            "Requirement already satisfied: ptyprocess in /usr/local/lib/python3.10/dist-packages (from terminado>=0.8.3->notebook==6.5.4->-r requirements.txt (line 8)) (0.7.0)\n",
            "Requirement already satisfied: argon2-cffi-bindings in /usr/local/lib/python3.10/dist-packages (from argon2-cffi->notebook==6.5.4->-r requirements.txt (line 8)) (21.2.0)\n",
            "Requirement already satisfied: ipython>=5.0.0 in /usr/local/lib/python3.10/dist-packages (from ipykernel->notebook==6.5.4->-r requirements.txt (line 8)) (7.34.0)\n",
            "Requirement already satisfied: pickleshare in /usr/local/lib/python3.10/dist-packages (from ipython>=5.0.0->ipykernel->notebook==6.5.4->-r requirements.txt (line 8)) (0.7.5)\n",
            "Requirement already satisfied: jedi>=0.16 in /usr/local/lib/python3.10/dist-packages (from ipython>=5.0.0->ipykernel->notebook==6.5.4->-r requirements.txt (line 8)) (0.19.1)\n",
            "Requirement already satisfied: decorator in /usr/local/lib/python3.10/dist-packages (from ipython>=5.0.0->ipykernel->notebook==6.5.4->-r requirements.txt (line 8)) (4.4.2)\n",
            "Requirement already satisfied: setuptools>=18.5 in /usr/local/lib/python3.10/dist-packages (from ipython>=5.0.0->ipykernel->notebook==6.5.4->-r requirements.txt (line 8)) (67.7.2)\n",
            "Requirement already satisfied: backcall in /usr/local/lib/python3.10/dist-packages (from ipython>=5.0.0->ipykernel->notebook==6.5.4->-r requirements.txt (line 8)) (0.2.0)\n",
            "Requirement already satisfied: prompt-toolkit!=3.0.0,!=3.0.1,<3.1.0,>=2.0.0 in /usr/local/lib/python3.10/dist-packages (from ipython>=5.0.0->ipykernel->notebook==6.5.4->-r requirements.txt (line 8)) (3.0.43)\n",
            "Requirement already satisfied: pexpect>4.3 in /usr/local/lib/python3.10/dist-packages (from ipython>=5.0.0->ipykernel->notebook==6.5.4->-r requirements.txt (line 8)) (4.9.0)\n",
            "Requirement already satisfied: matplotlib-inline in /usr/local/lib/python3.10/dist-packages (from ipython>=5.0.0->ipykernel->notebook==6.5.4->-r requirements.txt (line 8)) (0.1.6)\n",
            "Requirement already satisfied: rpds-py>=0.7.1 in /usr/local/lib/python3.10/dist-packages (from jsonschema>=2.6->nbformat->notebook==6.5.4->-r requirements.txt (line 8)) (0.15.2)\n",
            "Requirement already satisfied: referencing>=0.28.4 in /usr/local/lib/python3.10/dist-packages (from jsonschema>=2.6->nbformat->notebook==6.5.4->-r requirements.txt (line 8)) (0.32.0)\n",
            "Requirement already satisfied: jsonschema-specifications>=2023.03.6 in /usr/local/lib/python3.10/dist-packages (from jsonschema>=2.6->nbformat->notebook==6.5.4->-r requirements.txt (line 8)) (2023.11.2)\n",
            "Requirement already satisfied: anyio<4,>=3.1.0 in /usr/local/lib/python3.10/dist-packages (from jupyter-server>=1.8->nbclassic>=0.4.7->notebook==6.5.4->-r requirements.txt (line 8)) (3.7.1)\n",
            "Requirement already satisfied: websocket-client in /usr/local/lib/python3.10/dist-packages (from jupyter-server>=1.8->nbclassic>=0.4.7->notebook==6.5.4->-r requirements.txt (line 8)) (1.7.0)\n",
            "Requirement already satisfied: mypy-extensions>=0.3.0 in /usr/local/lib/python3.10/dist-packages (from typing-inspect<1,>=0.4.0->dataclasses-json<0.6.0,>=0.5.7->langchain==0.0.194->-r requirements.txt (line 2)) (1.0.0)\n",
            "Requirement already satisfied: cffi>=1.0.1 in /usr/local/lib/python3.10/dist-packages (from argon2-cffi-bindings->argon2-cffi->notebook==6.5.4->-r requirements.txt (line 8)) (1.16.0)\n",
            "Requirement already satisfied: soupsieve>1.2 in /usr/local/lib/python3.10/dist-packages (from beautifulsoup4->nbconvert>=5->notebook==6.5.4->-r requirements.txt (line 8)) (2.5)\n",
            "Requirement already satisfied: webencodings in /usr/local/lib/python3.10/dist-packages (from bleach->nbconvert>=5->notebook==6.5.4->-r requirements.txt (line 8)) (0.5.1)\n",
            "Requirement already satisfied: sniffio>=1.1 in /usr/local/lib/python3.10/dist-packages (from anyio<4,>=3.1.0->jupyter-server>=1.8->nbclassic>=0.4.7->notebook==6.5.4->-r requirements.txt (line 8)) (1.3.0)\n",
            "Requirement already satisfied: exceptiongroup in /usr/local/lib/python3.10/dist-packages (from anyio<4,>=3.1.0->jupyter-server>=1.8->nbclassic>=0.4.7->notebook==6.5.4->-r requirements.txt (line 8)) (1.2.0)\n",
            "Requirement already satisfied: pycparser in /usr/local/lib/python3.10/dist-packages (from cffi>=1.0.1->argon2-cffi-bindings->argon2-cffi->notebook==6.5.4->-r requirements.txt (line 8)) (2.21)\n",
            "Requirement already satisfied: parso<0.9.0,>=0.8.3 in /usr/local/lib/python3.10/dist-packages (from jedi>=0.16->ipython>=5.0.0->ipykernel->notebook==6.5.4->-r requirements.txt (line 8)) (0.8.3)\n",
            "Requirement already satisfied: wcwidth in /usr/local/lib/python3.10/dist-packages (from prompt-toolkit!=3.0.0,!=3.0.1,<3.1.0,>=2.0.0->ipython>=5.0.0->ipykernel->notebook==6.5.4->-r requirements.txt (line 8)) (0.2.12)\n",
            "\u001b[33mWARNING: Running pip as the 'root' user can result in broken permissions and conflicting behaviour with the system package manager. It is recommended to use a virtual environment instead: https://pip.pypa.io/warnings/venv\u001b[0m\u001b[33m\n",
            "\u001b[0m"
          ]
        }
      ]
    },
    {
      "cell_type": "code",
      "execution_count": 4,
      "metadata": {
        "colab": {
          "base_uri": "https://localhost:8080/"
        },
        "id": "56denEvKvJZS",
        "outputId": "64b4f392-12a4-4682-8c0d-69fd45198d54"
      },
      "outputs": [
        {
          "output_type": "execute_result",
          "data": {
            "text/plain": [
              "False"
            ]
          },
          "metadata": {},
          "execution_count": 4
        }
      ],
      "source": [
        "import os\n",
        "\n",
        "import hdbscan\n",
        "import pandas as pd\n",
        "\n",
        "from langchain import LLMChain\n",
        "from langchain.chat_models import ChatOpenAI\n",
        "from langchain.embeddings.openai import OpenAIEmbeddings\n",
        "from langchain.prompts.chat import (\n",
        "    ChatPromptTemplate,\n",
        "    SystemMessagePromptTemplate,\n",
        "    HumanMessagePromptTemplate,\n",
        ")\n",
        "from newsapi import NewsApiClient\n",
        "\n",
        "from dotenv import load_dotenv\n",
        "\n",
        "load_dotenv()"
      ]
    },
    {
      "cell_type": "markdown",
      "metadata": {
        "id": "v7mK8pQvvJZW"
      },
      "source": [
        "\n",
        "## 从相关来源获得10篇新闻报道（因为接口限速原因，这里演示10条）"
      ]
    },
    {
      "cell_type": "code",
      "execution_count": 5,
      "metadata": {
        "id": "AdY8rR8YvJZY"
      },
      "outputs": [],
      "source": [
        "sources_1 = [\n",
        "    \"the-washington-post\",\n",
        "    \"the-wall-street-journal\",\n",
        "    \"business-insider\",\n",
        "]\n",
        "sources_2 = [\n",
        "    \"google-news\"\n",
        "]"
      ]
    },
    {
      "cell_type": "code",
      "source": [
        "pip install newsapi-python"
      ],
      "metadata": {
        "colab": {
          "base_uri": "https://localhost:8080/"
        },
        "id": "dapjh4EhTJH1",
        "outputId": "430f4d76-8150-4189-9d68-f224ea22b00d"
      },
      "execution_count": 6,
      "outputs": [
        {
          "output_type": "stream",
          "name": "stdout",
          "text": [
            "Requirement already satisfied: newsapi-python in /usr/local/lib/python3.10/dist-packages (0.2.7)\n",
            "Requirement already satisfied: requests<3.0.0 in /usr/local/lib/python3.10/dist-packages (from newsapi-python) (2.31.0)\n",
            "Requirement already satisfied: certifi>=2017.4.17 in /usr/local/lib/python3.10/dist-packages (from requests<3.0.0->newsapi-python) (2023.11.17)\n",
            "Requirement already satisfied: charset-normalizer<4,>=2 in /usr/local/lib/python3.10/dist-packages (from requests<3.0.0->newsapi-python) (3.3.2)\n",
            "Requirement already satisfied: urllib3<3,>=1.21.1 in /usr/local/lib/python3.10/dist-packages (from requests<3.0.0->newsapi-python) (2.0.7)\n",
            "Requirement already satisfied: idna<4,>=2.5 in /usr/local/lib/python3.10/dist-packages (from requests<3.0.0->newsapi-python) (3.6)\n",
            "\u001b[33mWARNING: Running pip as the 'root' user can result in broken permissions and conflicting behaviour with the system package manager. It is recommended to use a virtual environment instead: https://pip.pypa.io/warnings/venv\u001b[0m\u001b[33m\n",
            "\u001b[0m"
          ]
        }
      ]
    },
    {
      "cell_type": "code",
      "execution_count": 8,
      "metadata": {
        "id": "xVB0xTM1vJZZ",
        "colab": {
          "base_uri": "https://localhost:8080/",
          "height": 413
        },
        "outputId": "b66cc156-fa19-4d87-f486-728b8f9a7aba"
      },
      "outputs": [
        {
          "output_type": "error",
          "ename": "NewsAPIException",
          "evalue": "ignored",
          "traceback": [
            "\u001b[0;31m---------------------------------------------------------------------------\u001b[0m",
            "\u001b[0;31mNewsAPIException\u001b[0m                          Traceback (most recent call last)",
            "\u001b[0;32m<ipython-input-8-8beb5b9e65e0>\u001b[0m in \u001b[0;36m<cell line: 8>\u001b[0;34m()\u001b[0m\n\u001b[1;32m      7\u001b[0m \u001b[0mrecent_articles\u001b[0m \u001b[0;34m=\u001b[0m \u001b[0;34m[\u001b[0m\u001b[0;34m]\u001b[0m\u001b[0;34m\u001b[0m\u001b[0;34m\u001b[0m\u001b[0m\n\u001b[1;32m      8\u001b[0m \u001b[0;32mfor\u001b[0m \u001b[0msource\u001b[0m \u001b[0;32min\u001b[0m \u001b[0;34m[\u001b[0m\u001b[0msources_1\u001b[0m\u001b[0;34m,\u001b[0m \u001b[0msources_2\u001b[0m\u001b[0;34m]\u001b[0m\u001b[0;34m:\u001b[0m\u001b[0;34m\u001b[0m\u001b[0;34m\u001b[0m\u001b[0m\n\u001b[0;32m----> 9\u001b[0;31m     recent_articles.extend(newsapi.get_everything(\n\u001b[0m\u001b[1;32m     10\u001b[0m         \u001b[0msources\u001b[0m\u001b[0;34m=\u001b[0m\u001b[0;34m\",\"\u001b[0m\u001b[0;34m.\u001b[0m\u001b[0mjoin\u001b[0m\u001b[0;34m(\u001b[0m\u001b[0msource\u001b[0m\u001b[0;34m)\u001b[0m\u001b[0;34m,\u001b[0m\u001b[0;34m\u001b[0m\u001b[0;34m\u001b[0m\u001b[0m\n\u001b[1;32m     11\u001b[0m         \u001b[0mlanguage\u001b[0m\u001b[0;34m=\u001b[0m\u001b[0;34m\"zh\"\u001b[0m\u001b[0;34m,\u001b[0m\u001b[0;34m\u001b[0m\u001b[0;34m\u001b[0m\u001b[0m\n",
            "\u001b[0;32m/usr/local/lib/python3.10/dist-packages/newsapi/newsapi_client.py\u001b[0m in \u001b[0;36mget_everything\u001b[0;34m(self, q, qintitle, sources, domains, exclude_domains, from_param, to, language, sort_by, page, page_size)\u001b[0m\n\u001b[1;32m    332\u001b[0m         \u001b[0;31m# Check Status of Request\u001b[0m\u001b[0;34m\u001b[0m\u001b[0;34m\u001b[0m\u001b[0m\n\u001b[1;32m    333\u001b[0m         \u001b[0;32mif\u001b[0m \u001b[0mr\u001b[0m\u001b[0;34m.\u001b[0m\u001b[0mstatus_code\u001b[0m \u001b[0;34m!=\u001b[0m \u001b[0mrequests\u001b[0m\u001b[0;34m.\u001b[0m\u001b[0mcodes\u001b[0m\u001b[0;34m.\u001b[0m\u001b[0mok\u001b[0m\u001b[0;34m:\u001b[0m\u001b[0;34m\u001b[0m\u001b[0;34m\u001b[0m\u001b[0m\n\u001b[0;32m--> 334\u001b[0;31m             \u001b[0;32mraise\u001b[0m \u001b[0mNewsAPIException\u001b[0m\u001b[0;34m(\u001b[0m\u001b[0mr\u001b[0m\u001b[0;34m.\u001b[0m\u001b[0mjson\u001b[0m\u001b[0;34m(\u001b[0m\u001b[0;34m)\u001b[0m\u001b[0;34m)\u001b[0m\u001b[0;34m\u001b[0m\u001b[0;34m\u001b[0m\u001b[0m\n\u001b[0m\u001b[1;32m    335\u001b[0m \u001b[0;34m\u001b[0m\u001b[0m\n\u001b[1;32m    336\u001b[0m         \u001b[0;32mreturn\u001b[0m \u001b[0mr\u001b[0m\u001b[0;34m.\u001b[0m\u001b[0mjson\u001b[0m\u001b[0;34m(\u001b[0m\u001b[0;34m)\u001b[0m\u001b[0;34m\u001b[0m\u001b[0;34m\u001b[0m\u001b[0m\n",
            "\u001b[0;31mNewsAPIException\u001b[0m: {'status': 'error', 'code': 'apiKeyInvalid', 'message': 'Your API key is invalid or incorrect. Check your key, or go to https://newsapi.org to create a free API key.'}"
          ]
        }
      ],
      "source": [
        "import os\n",
        "from newsapi import NewsApiClient\n",
        "\n",
        "\n",
        "newsapi = NewsApiClient(api_key= \"d71d5cad-1bf6-4269-8a27-d7c97b580d8a\")\n",
        "\n",
        "recent_articles = []\n",
        "for source in [sources_1, sources_2]:\n",
        "    recent_articles.extend(newsapi.get_everything(\n",
        "        sources=\",\".join(source),\n",
        "        language=\"zh\",\n",
        "        page_size=50\n",
        "    )[\"articles\"])"
      ]
    },
    {
      "cell_type": "code",
      "source": [
        "print(recent_articles)"
      ],
      "metadata": {
        "id": "VU7xr4GNyzR0"
      },
      "execution_count": null,
      "outputs": []
    },
    {
      "cell_type": "markdown",
      "metadata": {
        "id": "tHvIf_CjvJZZ"
      },
      "source": [
        "## 生成新闻文章的嵌入向量"
      ]
    },
    {
      "cell_type": "code",
      "execution_count": null,
      "metadata": {
        "id": "xXZjH9DsvJZa"
      },
      "outputs": [],
      "source": [
        "docs = [\n",
        "    a[\"title\"] + \"\\n\\n\" + (a[\"description\"] or \"\")\n",
        "    for a in recent_articles\n",
        "]"
      ]
    },
    {
      "cell_type": "code",
      "execution_count": null,
      "metadata": {
        "id": "qNW0eB9uvJZa"
      },
      "outputs": [],
      "source": [
        "embeddings = OpenAIEmbeddings(chunk_size=1000).embed_documents(docs)"
      ]
    },
    {
      "cell_type": "markdown",
      "metadata": {
        "id": "UDU4gksRvJZa"
      },
      "source": [
        "## 对文件进行聚类，并将结果存储在一个 dataframe 中"
      ]
    },
    {
      "cell_type": "code",
      "execution_count": null,
      "metadata": {
        "id": "lUMMPJz1vJZb"
      },
      "outputs": [],
      "source": [
        "hdb = hdbscan.HDBSCAN(gen_min_span_tree=True, min_samples=3, min_cluster_size=3).fit(embeddings)"
      ]
    },
    {
      "cell_type": "code",
      "execution_count": null,
      "metadata": {
        "id": "FjTBbPYFvJZb"
      },
      "outputs": [],
      "source": [
        "df = pd.DataFrame({\n",
        "    \"title\": [article[\"title\"] for article in recent_articles],\n",
        "    \"description\": [article[\"description\"] for article in recent_articles],\n",
        "    \"cluster\": hdb.labels_,\n",
        "})\n",
        "df = df.query(\"cluster != -1\") # 删除不在群集中的文档"
      ]
    },
    {
      "cell_type": "markdown",
      "metadata": {
        "id": "mAAqX_yyvJZc"
      },
      "source": [
        "## 从每个聚类的文件中创建聚类主题"
      ]
    },
    {
      "cell_type": "code",
      "execution_count": null,
      "metadata": {
        "id": "vqqrC-EZvJZc"
      },
      "outputs": [],
      "source": [
        "\n",
        "\n",
        "\n",
        "def get_prompt():\n",
        "    system_template = \"你是一位记者专家。你要帮我为新闻文章写一个引人注目的主题标题。\"\n",
        "    human_template = \"使用以下文章，写一个能概括这些文章的主题标题。\\n\\nARTICLES:{articles}\\n\\nTOPIC TITLE:\"\n",
        "\n",
        "    return ChatPromptTemplate(\n",
        "        messages=[\n",
        "            SystemMessagePromptTemplate.from_template(system_template),\n",
        "            HumanMessagePromptTemplate.from_template(human_template),\n",
        "        ],\n",
        "        input_variables=[\"articles\"],\n",
        "    )\n",
        "\n",
        "\n",
        "articles_str = \"\\n\\n\".join(\n",
        "    [article[\"title\"] + \"\\n\\n\" + (article[\"description\"] or \"\") for article in recent_articles]\n",
        ")\n",
        "\n",
        "prompt = get_prompt()\n",
        "\n",
        "for c in df.cluster.unique():\n",
        "    chain = LLMChain(\n",
        "        llm=ChatOpenAI(temperature=0, model_name=\"gpt-3.5-turbo-0613\"), prompt=prompt, verbose=False\n",
        "    )\n",
        "    articles_str = \"\\n\".join(\n",
        "        [\n",
        "            f\"{article['title']}\\n{article['description']}\\n\"\n",
        "            for article in df.query(f\"cluster == {c}\").to_dict(orient=\"records\")\n",
        "        ]\n",
        "    )\n",
        "    result = chain.run(\n",
        "        {\n",
        "            \"articles\": articles_str,\n",
        "        }\n",
        "    )\n",
        "    df.loc[df.cluster == c, \"topic_title\"] = result"
      ]
    },
    {
      "cell_type": "code",
      "execution_count": null,
      "metadata": {
        "id": "fV2OgrYQvJZc"
      },
      "outputs": [],
      "source": [
        "c = 1\n",
        "with pd.option_context(\"display.max_colwidth\", None):\n",
        "    print(df.query(f\"cluster == {c}\").topic_title.values[0])\n",
        "    display(df.query(f\"cluster == {c}\").head())"
      ]
    }
  ],
  "metadata": {
    "kernelspec": {
      "display_name": ".venv",
      "language": "python",
      "name": "python3"
    },
    "language_info": {
      "codemirror_mode": {
        "name": "ipython",
        "version": 3
      },
      "file_extension": ".py",
      "mimetype": "text/x-python",
      "name": "python",
      "nbconvert_exporter": "python",
      "pygments_lexer": "ipython3",
      "version": "3.10.4"
    },
    "orig_nbformat": 4,
    "colab": {
      "provenance": [],
      "include_colab_link": true
    }
  },
  "nbformat": 4,
  "nbformat_minor": 0
}